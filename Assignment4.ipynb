{
 "cells": [
  {
   "cell_type": "markdown",
   "metadata": {},
   "source": [
    "##### Assignment 4 - Linear Regression"
   ]
  },
  {
   "cell_type": "markdown",
   "metadata": {},
   "source": [
    "## Part 1 - Read your data frame.\n",
    "The CSV file is \"nba_2022-23_all_stats.csv\".  This data came from Kaggle.\n",
    "\n",
    "The first thing we will do is to pull all the data from the CSV file into a pandas dataframe and then look at the keys and the first five lines using the head() function.\n",
    "\n"
   ]
  },
  {
   "cell_type": "code",
   "execution_count": 1,
   "metadata": {},
   "outputs": [],
   "source": [
    "# Your code here"
   ]
  },
  {
   "cell_type": "markdown",
   "metadata": {},
   "source": [
    "## Part 2 - Display basic info and clean the data\n",
    "Take a look at the information.  Note any features that are missing values.  Note any features that are objects, but could be numerical\n",
    "\n",
    "There are instances (players) in the data set that are missing features.  Implement code to handle them by removal or replacement."
   ]
  },
  {
   "cell_type": "code",
   "execution_count": null,
   "metadata": {},
   "outputs": [],
   "source": [
    "# Your code here"
   ]
  },
  {
   "cell_type": "markdown",
   "metadata": {},
   "source": [
    "### _Notes_\n",
    "(Your notes here)"
   ]
  },
  {
   "cell_type": "markdown",
   "metadata": {},
   "source": [
    "## Part 3 - Split the data frame\n",
    "\n",
    "Use the train_test_split() function to split the data set into training(75%) and test(25%) sets. "
   ]
  },
  {
   "cell_type": "code",
   "execution_count": null,
   "metadata": {},
   "outputs": [],
   "source": [
    "# Your code here"
   ]
  },
  {
   "cell_type": "markdown",
   "metadata": {},
   "source": [
    "## Part 4 - Do some scatter plots\n",
    "Our goal is to predict the salary for a player.  Take a look at some of the features with respect to \"Salary\".  Make sure to look at \"age\".\n",
    "\n",
    "Use scatter_matrix."
   ]
  },
  {
   "cell_type": "code",
   "execution_count": null,
   "metadata": {},
   "outputs": [],
   "source": [
    "# Your code here"
   ]
  },
  {
   "cell_type": "markdown",
   "metadata": {},
   "source": [
    "## Part 5 - Linear Regression\n",
    "1. Create a linear regression model\n",
    "2. Pull out \"Age\" for the X and \"Salary\" for y. \n",
    "2. Fit the data.\n",
    "3. Show R2 and Mean Square Error\n",
    "4. Discuss the results"
   ]
  },
  {
   "cell_type": "code",
   "execution_count": null,
   "metadata": {},
   "outputs": [],
   "source": [
    "# Your code here"
   ]
  },
  {
   "cell_type": "markdown",
   "metadata": {},
   "source": [
    "Discussion: "
   ]
  },
  {
   "cell_type": "markdown",
   "metadata": {},
   "source": [
    "## Part 6 - Add features to X\n",
    "1. Create a new model.\n",
    "2. Pick up to 3 other features that you think might improve the model and use them with age for  X.\n",
    "2. Fit the data\n",
    "3. Show the scores\n",
    "4. Discuss the results"
   ]
  },
  {
   "cell_type": "code",
   "execution_count": null,
   "metadata": {},
   "outputs": [],
   "source": [
    "# Your code here"
   ]
  },
  {
   "cell_type": "markdown",
   "metadata": {},
   "source": [
    "Discussion: "
   ]
  },
  {
   "cell_type": "markdown",
   "metadata": {},
   "source": [
    "## Part 7 - Add a new feature to the Model\n",
    "We see that there is a categorical feature for Position.  Create a function that maps PG to 1, SG to 2, PF to 3, SF to 4 and C to 5.  If more than one category is given, use the first.\n",
    "\n",
    "Create a new feature PositionCat where you map the function on Position.\n",
    "\n",
    "1. Create another new linear regression model.\n",
    "2. Fit the data using PositionCat as X with Salary as the target.\n",
    "1. Show the scores\n",
    "1. Scatter plot the data\n",
    "1. Discuss the results"
   ]
  },
  {
   "cell_type": "code",
   "execution_count": null,
   "metadata": {},
   "outputs": [],
   "source": [
    "# Your code here"
   ]
  },
  {
   "cell_type": "markdown",
   "metadata": {},
   "source": [
    "Discussion:"
   ]
  },
  {
   "cell_type": "markdown",
   "metadata": {},
   "source": [
    "## Part 8 - Poly Features\n",
    "\n",
    "Create a model that uses the four features from part 6, the position feature from part 7 and adds in polynomial features of degree 3.\n",
    "\n",
    "1. Create a new model.\n",
    "2. Fit the data  (X is the old origninal features plus position + poly) and target of Salary.\n",
    "2. Show the scores\n",
    "3. Discuss the results"
   ]
  },
  {
   "cell_type": "markdown",
   "metadata": {},
   "source": [
    "## Part 9 - Test Set time\n",
    "Evaluate the models from part 6,7, and 8 for r2 and mean square error on the test set and discuss your results in comparison to the measures from the training set."
   ]
  },
  {
   "cell_type": "code",
   "execution_count": null,
   "metadata": {},
   "outputs": [],
   "source": [
    "# Your code here"
   ]
  },
  {
   "cell_type": "markdown",
   "metadata": {},
   "source": [
    "Discussion:"
   ]
  },
  {
   "cell_type": "markdown",
   "metadata": {},
   "source": [
    "# Bonus options\n",
    "For each of the options, redo your regression using the new features, report the results and discuss.\n"
   ]
  },
  {
   "cell_type": "markdown",
   "metadata": {},
   "source": [
    "1. Look for a better set of features to predict Salary. Create a new model using those features.  Compute and discuss the metrics for this model.  \n",
    "2. Create a new feature based on team that is the year the team entered the league and create a new model using the year as the input parameter.  Compute and discuss metrics.\n",
    "2. Use one of the regularized models (Ridge, Lasso, Elastic net) on your model from part 8 .  Compare and discuss the metrics."
   ]
  },
  {
   "cell_type": "code",
   "execution_count": null,
   "metadata": {},
   "outputs": [],
   "source": []
  }
 ],
 "metadata": {
  "kernelspec": {
   "display_name": "Python 3",
   "language": "python",
   "name": "python3"
  },
  "language_info": {
   "codemirror_mode": {
    "name": "ipython",
    "version": 3
   },
   "file_extension": ".py",
   "mimetype": "text/x-python",
   "name": "python",
   "nbconvert_exporter": "python",
   "pygments_lexer": "ipython3",
   "version": "3.9.0"
  }
 },
 "nbformat": 4,
 "nbformat_minor": 4
}
